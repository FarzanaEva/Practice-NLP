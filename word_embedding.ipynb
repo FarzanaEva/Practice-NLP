{
  "nbformat": 4,
  "nbformat_minor": 0,
  "metadata": {
    "colab": {
      "name": "word embedding.ipynb",
      "provenance": [],
      "authorship_tag": "ABX9TyP11phPsSGPvB2cWhu+JXeE",
      "include_colab_link": true
    },
    "kernelspec": {
      "name": "python3",
      "display_name": "Python 3"
    },
    "accelerator": "GPU"
  },
  "cells": [
    {
      "cell_type": "markdown",
      "metadata": {
        "id": "view-in-github",
        "colab_type": "text"
      },
      "source": [
        "<a href=\"https://colab.research.google.com/github/FarzanaEva/Practice-NLP/blob/master/word_embedding.ipynb\" target=\"_parent\"><img src=\"https://colab.research.google.com/assets/colab-badge.svg\" alt=\"Open In Colab\"/></a>"
      ]
    },
    {
      "cell_type": "code",
      "metadata": {
        "id": "YXIYZ1trEYdO",
        "colab_type": "code",
        "colab": {}
      },
      "source": [
        "import tensorflow as tf\n",
        "from tensorflow.keras import layers\n",
        "import tensorflow_datasets as tfds\n",
        "import matplotlib.pyplot as plt\n",
        "import io\n",
        "tfds.disable_progress_bar()"
      ],
      "execution_count": 1,
      "outputs": []
    },
    {
      "cell_type": "code",
      "metadata": {
        "id": "Qw-g5zHRL0P9",
        "colab_type": "code",
        "colab": {}
      },
      "source": [
        "embedding_layer = layers.Embedding(1000, 5)"
      ],
      "execution_count": 2,
      "outputs": []
    },
    {
      "cell_type": "code",
      "metadata": {
        "id": "ANuqCHBcM9fI",
        "colab_type": "code",
        "colab": {
          "base_uri": "https://localhost:8080/",
          "height": 90
        },
        "outputId": "b4ad56ab-c5fe-466d-c8cf-651dae361ec4"
      },
      "source": [
        "result= embedding_layer(tf.constant([1, 2, 3]))\n",
        "result.numpy()"
      ],
      "execution_count": 3,
      "outputs": [
        {
          "output_type": "execute_result",
          "data": {
            "text/plain": [
              "array([[-0.03589958, -0.00044569, -0.0053638 ,  0.03147912,  0.02896431],\n",
              "       [ 0.00625909, -0.00614669,  0.02677984,  0.00309948, -0.04636767],\n",
              "       [-0.04801077, -0.02919691,  0.01271522,  0.03061714,  0.04282211]],\n",
              "      dtype=float32)"
            ]
          },
          "metadata": {
            "tags": []
          },
          "execution_count": 3
        }
      ]
    },
    {
      "cell_type": "code",
      "metadata": {
        "id": "M20Fx46jNQGU",
        "colab_type": "code",
        "colab": {
          "base_uri": "https://localhost:8080/",
          "height": 35
        },
        "outputId": "04a4f7f8-1c2b-40a8-ea52-5ca77a4c596f"
      },
      "source": [
        "result = embedding_layer(tf.constant([[0, 1, 2], [3, 4, 5]]))\n",
        "result.shape"
      ],
      "execution_count": 4,
      "outputs": [
        {
          "output_type": "execute_result",
          "data": {
            "text/plain": [
              "TensorShape([2, 3, 5])"
            ]
          },
          "metadata": {
            "tags": []
          },
          "execution_count": 4
        }
      ]
    },
    {
      "cell_type": "code",
      "metadata": {
        "id": "WSZI3t6zNkZ6",
        "colab_type": "code",
        "colab": {
          "base_uri": "https://localhost:8080/",
          "height": 129
        },
        "outputId": "345f8fa8-7071-4d63-a2ed-9365423967c8"
      },
      "source": [
        "(train_data, test_data), info = tfds.load('imdb_reviews/subwords8k', split = (tfds.Split.TRAIN, tfds.Split.TEST), with_info = True, as_supervised = True)"
      ],
      "execution_count": 5,
      "outputs": [
        {
          "output_type": "stream",
          "text": [
            "\u001b[1mDownloading and preparing dataset imdb_reviews/subwords8k/1.0.0 (download: 80.23 MiB, generated: Unknown size, total: 80.23 MiB) to /root/tensorflow_datasets/imdb_reviews/subwords8k/1.0.0...\u001b[0m\n",
            "Shuffling and writing examples to /root/tensorflow_datasets/imdb_reviews/subwords8k/1.0.0.incomplete9R4GBM/imdb_reviews-train.tfrecord\n",
            "Shuffling and writing examples to /root/tensorflow_datasets/imdb_reviews/subwords8k/1.0.0.incomplete9R4GBM/imdb_reviews-test.tfrecord\n",
            "Shuffling and writing examples to /root/tensorflow_datasets/imdb_reviews/subwords8k/1.0.0.incomplete9R4GBM/imdb_reviews-unsupervised.tfrecord\n",
            "\u001b[1mDataset imdb_reviews downloaded and prepared to /root/tensorflow_datasets/imdb_reviews/subwords8k/1.0.0. Subsequent calls will reuse this data.\u001b[0m\n"
          ],
          "name": "stdout"
        }
      ]
    },
    {
      "cell_type": "markdown",
      "metadata": {
        "id": "0yg841Z7xpkH",
        "colab_type": "text"
      },
      "source": [
        "\n",
        "The **\"_\"** in the vocabulary represent spaces. Note how the vocabulary includes whole words (ending with \"_\") and partial words which it can use to build larger words:\n",
        "\n"
      ]
    },
    {
      "cell_type": "code",
      "metadata": {
        "id": "8udP0j5Xwjvm",
        "colab_type": "code",
        "colab": {
          "base_uri": "https://localhost:8080/",
          "height": 384
        },
        "outputId": "8550c9ad-ee30-4ef8-9693-0c017db55970"
      },
      "source": [
        "encoder = info.features['text'].encoder\n",
        "encoder.subwords[:20]"
      ],
      "execution_count": 6,
      "outputs": [
        {
          "output_type": "execute_result",
          "data": {
            "text/plain": [
              "['the_',\n",
              " ', ',\n",
              " '. ',\n",
              " 'a_',\n",
              " 'and_',\n",
              " 'of_',\n",
              " 'to_',\n",
              " 's_',\n",
              " 'is_',\n",
              " 'br',\n",
              " 'in_',\n",
              " 'I_',\n",
              " 'that_',\n",
              " 'this_',\n",
              " 'it_',\n",
              " ' /><',\n",
              " ' />',\n",
              " 'was_',\n",
              " 'The_',\n",
              " 'as_']"
            ]
          },
          "metadata": {
            "tags": []
          },
          "execution_count": 6
        }
      ]
    },
    {
      "cell_type": "code",
      "metadata": {
        "id": "9F0D05rbyI91",
        "colab_type": "code",
        "colab": {}
      },
      "source": [
        "train_batches = train_data.shuffle(1000).padded_batch(10)\n",
        "test_batches = test_data.shuffle(1000).padded_batch(10)"
      ],
      "execution_count": 7,
      "outputs": []
    },
    {
      "cell_type": "code",
      "metadata": {
        "id": "DJsawNx9ybMB",
        "colab_type": "code",
        "colab": {
          "base_uri": "https://localhost:8080/",
          "height": 146
        },
        "outputId": "8d4a98c0-e9db-40f9-d228-e28d00b3f027"
      },
      "source": [
        "train_batch, train_labels = next(iter(train_batches))\n",
        "train_batch.numpy()"
      ],
      "execution_count": 8,
      "outputs": [
        {
          "output_type": "execute_result",
          "data": {
            "text/plain": [
              "array([[4278, 7961,  218, ...,    0,    0,    0],\n",
              "       [  62,   27,    9, ...,  372, 1963, 7975],\n",
              "       [ 634,   51,    1, ...,    0,    0,    0],\n",
              "       ...,\n",
              "       [  62,   32,    9, ...,    0,    0,    0],\n",
              "       [2589, 3171,   36, ...,    0,    0,    0],\n",
              "       [  12,  548,   21, ...,    0,    0,    0]])"
            ]
          },
          "metadata": {
            "tags": []
          },
          "execution_count": 8
        }
      ]
    },
    {
      "cell_type": "code",
      "metadata": {
        "id": "f3gCqMCryvUF",
        "colab_type": "code",
        "colab": {
          "base_uri": "https://localhost:8080/",
          "height": 348
        },
        "outputId": "13231611-7e84-461c-9fcc-54927d0464de"
      },
      "source": [
        "embedding_dim = 32\n",
        "model = tf.keras.Sequential([\n",
        "    layers.Embedding(encoder.vocab_size, embedding_dim),\n",
        "    layers.Conv1D(128, 5, activation=\"relu\"),\n",
        "    layers.GlobalAveragePooling1D(),\n",
        "    layers.Dense(256, activation = \"relu\"),\n",
        "    layers.Dense(1, activation=\"sigmoid\")\n",
        "])\n",
        "model.summary()"
      ],
      "execution_count": 9,
      "outputs": [
        {
          "output_type": "stream",
          "text": [
            "Model: \"sequential\"\n",
            "_________________________________________________________________\n",
            "Layer (type)                 Output Shape              Param #   \n",
            "=================================================================\n",
            "embedding_1 (Embedding)      (None, None, 32)          261920    \n",
            "_________________________________________________________________\n",
            "conv1d (Conv1D)              (None, None, 128)         20608     \n",
            "_________________________________________________________________\n",
            "global_average_pooling1d (Gl (None, 128)               0         \n",
            "_________________________________________________________________\n",
            "dense (Dense)                (None, 256)               33024     \n",
            "_________________________________________________________________\n",
            "dense_1 (Dense)              (None, 1)                 257       \n",
            "=================================================================\n",
            "Total params: 315,809\n",
            "Trainable params: 315,809\n",
            "Non-trainable params: 0\n",
            "_________________________________________________________________\n"
          ],
          "name": "stdout"
        }
      ]
    },
    {
      "cell_type": "code",
      "metadata": {
        "id": "2kKLWl5uzxGL",
        "colab_type": "code",
        "colab": {
          "base_uri": "https://localhost:8080/",
          "height": 1000
        },
        "outputId": "421d40b0-15ad-40a8-ccb5-029e5fcc1111"
      },
      "source": [
        "model.compile(optimizer='adam',\n",
        "              loss=tf.keras.losses.BinaryCrossentropy(from_logits=True),\n",
        "              metrics=['accuracy'])\n",
        "\n",
        "history = model.fit(\n",
        "    train_batches,\n",
        "    epochs=50,\n",
        "    validation_data=test_batches, validation_steps=20)"
      ],
      "execution_count": 10,
      "outputs": [
        {
          "output_type": "stream",
          "text": [
            "Epoch 1/50\n",
            "2500/2500 [==============================] - 30s 12ms/step - loss: 0.5961 - accuracy: 0.7850 - val_loss: 0.5749 - val_accuracy: 0.8750\n",
            "Epoch 2/50\n",
            "2500/2500 [==============================] - 21s 8ms/step - loss: 0.5527 - accuracy: 0.8932 - val_loss: 0.5607 - val_accuracy: 0.8700\n",
            "Epoch 3/50\n",
            "2500/2500 [==============================] - 20s 8ms/step - loss: 0.5458 - accuracy: 0.9074 - val_loss: 0.5596 - val_accuracy: 0.8950\n",
            "Epoch 4/50\n",
            "2500/2500 [==============================] - 19s 8ms/step - loss: 0.5410 - accuracy: 0.9188 - val_loss: 0.5670 - val_accuracy: 0.8250\n",
            "Epoch 5/50\n",
            "2500/2500 [==============================] - 19s 8ms/step - loss: 0.5388 - accuracy: 0.9230 - val_loss: 0.5645 - val_accuracy: 0.8650\n",
            "Epoch 6/50\n",
            "2500/2500 [==============================] - 19s 8ms/step - loss: 0.5362 - accuracy: 0.9294 - val_loss: 0.5756 - val_accuracy: 0.8500\n",
            "Epoch 7/50\n",
            "2500/2500 [==============================] - 20s 8ms/step - loss: 0.5358 - accuracy: 0.9289 - val_loss: 0.5700 - val_accuracy: 0.8250\n",
            "Epoch 8/50\n",
            "2500/2500 [==============================] - 19s 8ms/step - loss: 0.5345 - accuracy: 0.9317 - val_loss: 0.5561 - val_accuracy: 0.8700\n",
            "Epoch 9/50\n",
            "2500/2500 [==============================] - 19s 8ms/step - loss: 0.5341 - accuracy: 0.9325 - val_loss: 0.5680 - val_accuracy: 0.8450\n",
            "Epoch 10/50\n",
            "2500/2500 [==============================] - 20s 8ms/step - loss: 0.5321 - accuracy: 0.9372 - val_loss: 0.5979 - val_accuracy: 0.7350\n",
            "Epoch 11/50\n",
            "2500/2500 [==============================] - 19s 8ms/step - loss: 0.5333 - accuracy: 0.9346 - val_loss: 0.5586 - val_accuracy: 0.8700\n",
            "Epoch 12/50\n",
            "2500/2500 [==============================] - 20s 8ms/step - loss: 0.5308 - accuracy: 0.9412 - val_loss: 0.5825 - val_accuracy: 0.8450\n",
            "Epoch 13/50\n",
            "2500/2500 [==============================] - 20s 8ms/step - loss: 0.5315 - accuracy: 0.9389 - val_loss: 0.5831 - val_accuracy: 0.8350\n",
            "Epoch 14/50\n",
            "2500/2500 [==============================] - 20s 8ms/step - loss: 0.5284 - accuracy: 0.9463 - val_loss: 0.5839 - val_accuracy: 0.8350\n",
            "Epoch 15/50\n",
            "2500/2500 [==============================] - 20s 8ms/step - loss: 0.5285 - accuracy: 0.9460 - val_loss: 0.5685 - val_accuracy: 0.8650\n",
            "Epoch 16/50\n",
            "2500/2500 [==============================] - 20s 8ms/step - loss: 0.5282 - accuracy: 0.9475 - val_loss: 0.5631 - val_accuracy: 0.8800\n",
            "Epoch 17/50\n",
            "2500/2500 [==============================] - 19s 8ms/step - loss: 0.5282 - accuracy: 0.9456 - val_loss: 0.5522 - val_accuracy: 0.8650\n",
            "Epoch 18/50\n",
            "2500/2500 [==============================] - 19s 8ms/step - loss: 0.5263 - accuracy: 0.9511 - val_loss: 0.5336 - val_accuracy: 0.8450\n",
            "Epoch 19/50\n",
            "2500/2500 [==============================] - 20s 8ms/step - loss: 0.5268 - accuracy: 0.9489 - val_loss: 0.5443 - val_accuracy: 0.8750\n",
            "Epoch 20/50\n",
            "2500/2500 [==============================] - 20s 8ms/step - loss: 0.5277 - accuracy: 0.9472 - val_loss: 0.5641 - val_accuracy: 0.8950\n",
            "Epoch 21/50\n",
            "2500/2500 [==============================] - 20s 8ms/step - loss: 0.5252 - accuracy: 0.9523 - val_loss: 0.5605 - val_accuracy: 0.8750\n",
            "Epoch 22/50\n",
            "2500/2500 [==============================] - 19s 8ms/step - loss: 0.5248 - accuracy: 0.9525 - val_loss: 0.5557 - val_accuracy: 0.8400\n",
            "Epoch 23/50\n",
            "2500/2500 [==============================] - 20s 8ms/step - loss: 0.5253 - accuracy: 0.9521 - val_loss: 0.5874 - val_accuracy: 0.8600\n",
            "Epoch 24/50\n",
            "2500/2500 [==============================] - 20s 8ms/step - loss: 0.5239 - accuracy: 0.9546 - val_loss: 0.5847 - val_accuracy: 0.8600\n",
            "Epoch 25/50\n",
            "2500/2500 [==============================] - 19s 8ms/step - loss: 0.5245 - accuracy: 0.9543 - val_loss: 0.5646 - val_accuracy: 0.8850\n",
            "Epoch 26/50\n",
            "2500/2500 [==============================] - 20s 8ms/step - loss: 0.5222 - accuracy: 0.9592 - val_loss: 0.5846 - val_accuracy: 0.8250\n",
            "Epoch 27/50\n",
            "2500/2500 [==============================] - 20s 8ms/step - loss: 0.5233 - accuracy: 0.9569 - val_loss: 0.5507 - val_accuracy: 0.9300\n",
            "Epoch 28/50\n",
            "2500/2500 [==============================] - 20s 8ms/step - loss: 0.5236 - accuracy: 0.9561 - val_loss: 0.5415 - val_accuracy: 0.8950\n",
            "Epoch 29/50\n",
            "2500/2500 [==============================] - 20s 8ms/step - loss: 0.5222 - accuracy: 0.9594 - val_loss: 0.5712 - val_accuracy: 0.8750\n",
            "Epoch 30/50\n",
            "2500/2500 [==============================] - 21s 8ms/step - loss: 0.5220 - accuracy: 0.9592 - val_loss: 0.5694 - val_accuracy: 0.8350\n",
            "Epoch 31/50\n",
            "2500/2500 [==============================] - 20s 8ms/step - loss: 0.5213 - accuracy: 0.9603 - val_loss: 0.5565 - val_accuracy: 0.8850\n",
            "Epoch 32/50\n",
            "2500/2500 [==============================] - 20s 8ms/step - loss: 0.5217 - accuracy: 0.9601 - val_loss: 0.5671 - val_accuracy: 0.8850\n",
            "Epoch 33/50\n",
            "2500/2500 [==============================] - 19s 8ms/step - loss: 0.5207 - accuracy: 0.9630 - val_loss: 0.5716 - val_accuracy: 0.8600\n",
            "Epoch 34/50\n",
            "2500/2500 [==============================] - 19s 8ms/step - loss: 0.5203 - accuracy: 0.9638 - val_loss: 0.5440 - val_accuracy: 0.8650\n",
            "Epoch 35/50\n",
            "2500/2500 [==============================] - 20s 8ms/step - loss: 0.5216 - accuracy: 0.9602 - val_loss: 0.5705 - val_accuracy: 0.8350\n",
            "Epoch 36/50\n",
            "2500/2500 [==============================] - 20s 8ms/step - loss: 0.5209 - accuracy: 0.9620 - val_loss: 0.5852 - val_accuracy: 0.8550\n",
            "Epoch 37/50\n",
            "2500/2500 [==============================] - 20s 8ms/step - loss: 0.5218 - accuracy: 0.9586 - val_loss: 0.5855 - val_accuracy: 0.8650\n",
            "Epoch 38/50\n",
            "2500/2500 [==============================] - 20s 8ms/step - loss: 0.5208 - accuracy: 0.9619 - val_loss: 0.5823 - val_accuracy: 0.8150\n",
            "Epoch 39/50\n",
            "2500/2500 [==============================] - 19s 8ms/step - loss: 0.5210 - accuracy: 0.9610 - val_loss: 0.5828 - val_accuracy: 0.8500\n",
            "Epoch 40/50\n",
            "2500/2500 [==============================] - 20s 8ms/step - loss: 0.5207 - accuracy: 0.9624 - val_loss: 0.5465 - val_accuracy: 0.8800\n",
            "Epoch 41/50\n",
            "2500/2500 [==============================] - 19s 8ms/step - loss: 0.5201 - accuracy: 0.9638 - val_loss: 0.5490 - val_accuracy: 0.8650\n",
            "Epoch 42/50\n",
            "2500/2500 [==============================] - 20s 8ms/step - loss: 0.5188 - accuracy: 0.9662 - val_loss: 0.5753 - val_accuracy: 0.8650\n",
            "Epoch 43/50\n",
            "2500/2500 [==============================] - 20s 8ms/step - loss: 0.5199 - accuracy: 0.9646 - val_loss: 0.5815 - val_accuracy: 0.8600\n",
            "Epoch 44/50\n",
            "2500/2500 [==============================] - 20s 8ms/step - loss: 0.5198 - accuracy: 0.9650 - val_loss: 0.5433 - val_accuracy: 0.8850\n",
            "Epoch 45/50\n",
            "2500/2500 [==============================] - 19s 8ms/step - loss: 0.5189 - accuracy: 0.9658 - val_loss: 0.5752 - val_accuracy: 0.8850\n",
            "Epoch 46/50\n",
            "2500/2500 [==============================] - 20s 8ms/step - loss: 0.5225 - accuracy: 0.9559 - val_loss: 0.5495 - val_accuracy: 0.8750\n",
            "Epoch 47/50\n",
            "2500/2500 [==============================] - 19s 8ms/step - loss: 0.5200 - accuracy: 0.9642 - val_loss: 0.5682 - val_accuracy: 0.8750\n",
            "Epoch 48/50\n",
            "2500/2500 [==============================] - 20s 8ms/step - loss: 0.5197 - accuracy: 0.9637 - val_loss: 0.5716 - val_accuracy: 0.8150\n",
            "Epoch 49/50\n",
            "2500/2500 [==============================] - 19s 8ms/step - loss: 0.5196 - accuracy: 0.9656 - val_loss: 0.6023 - val_accuracy: 0.8300\n",
            "Epoch 50/50\n",
            "2500/2500 [==============================] - 19s 8ms/step - loss: 0.5194 - accuracy: 0.9650 - val_loss: 0.5475 - val_accuracy: 0.8550\n"
          ],
          "name": "stdout"
        }
      ]
    },
    {
      "cell_type": "code",
      "metadata": {
        "id": "Hb3MFnj80DnW",
        "colab_type": "code",
        "colab": {
          "base_uri": "https://localhost:8080/",
          "height": 295
        },
        "outputId": "1ffafc13-8a65-45d6-bdbd-504980a8b26e"
      },
      "source": [
        "history_dict = history.history\n",
        "\n",
        "acc = history_dict['accuracy']\n",
        "val_acc = history_dict['val_accuracy']\n",
        "loss=history_dict['loss']\n",
        "val_loss=history_dict['val_loss']\n",
        "\n",
        "epochs = range(1, len(acc) + 1)\n",
        "plt.plot(epochs, loss, label='Training loss')\n",
        "plt.plot(epochs, val_loss, label='Validation loss')\n",
        "plt.title('Training and validation loss')\n",
        "plt.xlabel('Epochs')\n",
        "plt.ylabel('Loss')\n",
        "plt.legend()\n",
        "plt.show()"
      ],
      "execution_count": 12,
      "outputs": [
        {
          "output_type": "display_data",
          "data": {
            "image/png": "[encoded data removed]",
            "text/plain": [
              "<Figure size 432x288 with 1 Axes>"
            ]
          },
          "metadata": {
            "tags": [],
            "needs_background": "light"
          }
        }
      ]
    },
    {
      "cell_type": "code",
      "metadata": {
        "id": "ENK-lpYv4Kpw",
        "colab_type": "code",
        "colab": {
          "base_uri": "https://localhost:8080/",
          "height": 295
        },
        "outputId": "eee9e3f3-0f06-4861-a62d-e7e4f1e199fb"
      },
      "source": [
        "plt.plot(epochs, acc, label='Training acc')\n",
        "plt.plot(epochs, val_acc, label='Validation acc')\n",
        "plt.title('Training and validation accuracy')\n",
        "plt.xlabel('Epochs')\n",
        "plt.ylabel('Accuracy')\n",
        "plt.legend(loc='lower right')\n",
        "plt.ylim((0.5,1))\n",
        "plt.show()"
      ],
      "execution_count": 13,
      "outputs": [
        {
          "output_type": "display_data",
          "data": {
            "image/png": "[encoded data removed]",
            "text/plain": [
              "<Figure size 432x288 with 1 Axes>"
            ]
          },
          "metadata": {
            "tags": [],
            "needs_background": "light"
          }
        }
      ]
    },
    {
      "cell_type": "code",
      "metadata": {
        "id": "AIHxH9xl4W8F",
        "colab_type": "code",
        "colab": {
          "base_uri": "https://localhost:8080/",
          "height": 35
        },
        "outputId": "bb1d4e0d-6cbf-4fed-ffb1-2547c9fa9102"
      },
      "source": [
        "embed_layer = model.layers[0]\n",
        "weights = embed_layer.get_weights()[0]\n",
        "print(weights.shape)"
      ],
      "execution_count": 14,
      "outputs": [
        {
          "output_type": "stream",
          "text": [
            "(8185, 32)\n"
          ],
          "name": "stdout"
        }
      ]
    },
    {
      "cell_type": "markdown",
      "metadata": {
        "id": "ABYQvNUd4qzT",
        "colab_type": "text"
      },
      "source": [
        "We will now write the weights to disk. To use the Embedding Projector(https://projector.tensorflow.org/), we will upload two files in tab separated format: a file of vectors (containing the embedding), and a file of meta data (containing the words).\n"
      ]
    },
    {
      "cell_type": "code",
      "metadata": {
        "id": "ZfO_KC1w4lPj",
        "colab_type": "code",
        "colab": {}
      },
      "source": [
        "encoder = info.features['text'].encoder\n",
        "\n",
        "out_v = io.open('vecs.tsv', 'w', encoding = 'utf-8')\n",
        "out_m = io.open('meta.tsv', 'w', encoding = 'utf-8')\n",
        "\n",
        "for num, word in enumerate(encoder.subwords):\n",
        "  vec = weights[num+1]\n",
        "  out_m.write(word + \"\\n\")\n",
        "  out_v.write('\\t'.join([str(x) for x in vec]) + \"\\n\")\n",
        "out_v.close()\n",
        "out_m.close()\n"
      ],
      "execution_count": 16,
      "outputs": []
    },
    {
      "cell_type": "code",
      "metadata": {
        "id": "y-a7ufFn6PLl",
        "colab_type": "code",
        "colab": {
          "base_uri": "https://localhost:8080/",
          "height": 17
        },
        "outputId": "358c1dd7-2dbc-4f05-fd9f-2f182cdec966"
      },
      "source": [
        "try:\n",
        "  from google.colab import files\n",
        "except ImportError:\n",
        "  pass\n",
        "else:\n",
        "  files.download('vecs.tsv')\n",
        "  files.download('meta.tsv')"
      ],
      "execution_count": 17,
      "outputs": [
        {
          "output_type": "display_data",
          "data": {
            "application/javascript": [
              "\n",
              "    async function download(id, filename, size) {\n",
              "      if (!google.colab.kernel.accessAllowed) {\n",
              "        return;\n",
              "      }\n",
              "      const div = document.createElement('div');\n",
              "      const label = document.createElement('label');\n",
              "      label.textContent = `Downloading \"${filename}\": `;\n",
              "      div.appendChild(label);\n",
              "      const progress = document.createElement('progress');\n",
              "      progress.max = size;\n",
              "      div.appendChild(progress);\n",
              "      document.body.appendChild(div);\n",
              "\n",
              "      const buffers = [];\n",
              "      let downloaded = 0;\n",
              "\n",
              "      const channel = await google.colab.kernel.comms.open(id);\n",
              "      // Send a message to notify the kernel that we're ready.\n",
              "      channel.send({})\n",
              "\n",
              "      for await (const message of channel.messages) {\n",
              "        // Send a message to notify the kernel that we're ready.\n",
              "        channel.send({})\n",
              "        if (message.buffers) {\n",
              "          for (const buffer of message.buffers) {\n",
              "            buffers.push(buffer);\n",
              "            downloaded += buffer.byteLength;\n",
              "            progress.value = downloaded;\n",
              "          }\n",
              "        }\n",
              "      }\n",
              "      const blob = new Blob(buffers, {type: 'application/binary'});\n",
              "      const a = document.createElement('a');\n",
              "      a.href = window.URL.createObjectURL(blob);\n",
              "      a.download = filename;\n",
              "      div.appendChild(a);\n",
              "      a.click();\n",
              "      div.remove();\n",
              "    }\n",
              "  "
            ],
            "text/plain": [
              "<IPython.core.display.Javascript object>"
            ]
          },
          "metadata": {
            "tags": []
          }
        },
        {
          "output_type": "display_data",
          "data": {
            "application/javascript": [
              "download(\"download_d893ff76-2952-4cfc-b1af-7614062471f0\", \"vecs.tsv\", 2882252)"
            ],
            "text/plain": [
              "<IPython.core.display.Javascript object>"
            ]
          },
          "metadata": {
            "tags": []
          }
        },
        {
          "output_type": "display_data",
          "data": {
            "application/javascript": [
              "\n",
              "    async function download(id, filename, size) {\n",
              "      if (!google.colab.kernel.accessAllowed) {\n",
              "        return;\n",
              "      }\n",
              "      const div = document.createElement('div');\n",
              "      const label = document.createElement('label');\n",
              "      label.textContent = `Downloading \"${filename}\": `;\n",
              "      div.appendChild(label);\n",
              "      const progress = document.createElement('progress');\n",
              "      progress.max = size;\n",
              "      div.appendChild(progress);\n",
              "      document.body.appendChild(div);\n",
              "\n",
              "      const buffers = [];\n",
              "      let downloaded = 0;\n",
              "\n",
              "      const channel = await google.colab.kernel.comms.open(id);\n",
              "      // Send a message to notify the kernel that we're ready.\n",
              "      channel.send({})\n",
              "\n",
              "      for await (const message of channel.messages) {\n",
              "        // Send a message to notify the kernel that we're ready.\n",
              "        channel.send({})\n",
              "        if (message.buffers) {\n",
              "          for (const buffer of message.buffers) {\n",
              "            buffers.push(buffer);\n",
              "            downloaded += buffer.byteLength;\n",
              "            progress.value = downloaded;\n",
              "          }\n",
              "        }\n",
              "      }\n",
              "      const blob = new Blob(buffers, {type: 'application/binary'});\n",
              "      const a = document.createElement('a');\n",
              "      a.href = window.URL.createObjectURL(blob);\n",
              "      a.download = filename;\n",
              "      div.appendChild(a);\n",
              "      a.click();\n",
              "      div.remove();\n",
              "    }\n",
              "  "
            ],
            "text/plain": [
              "<IPython.core.display.Javascript object>"
            ]
          },
          "metadata": {
            "tags": []
          }
        },
        {
          "output_type": "display_data",
          "data": {
            "application/javascript": [
              "download(\"download_9451e6ec-e870-4c5b-95ad-0cfbe802242b\", \"meta.tsv\", 47332)"
            ],
            "text/plain": [
              "<IPython.core.display.Javascript object>"
            ]
          },
          "metadata": {
            "tags": []
          }
        }
      ]
    },
    {
      "cell_type": "code",
      "metadata": {
        "id": "BjF7dcWI6k-6",
        "colab_type": "code",
        "colab": {}
      },
      "source": [
        ""
      ],
      "execution_count": null,
      "outputs": []
    }
  ]
}