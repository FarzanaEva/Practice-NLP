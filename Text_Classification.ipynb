{
  "nbformat": 4,
  "nbformat_minor": 0,
  "metadata": {
    "colab": {
      "name": "Text Classification.ipynb",
      "provenance": [],
      "authorship_tag": "ABX9TyNtW5T1LiBQIQO7nYhSL77+",
      "include_colab_link": true
    },
    "kernelspec": {
      "name": "python3",
      "display_name": "Python 3"
    },
    "accelerator": "GPU"
  },
  "cells": [
    {
      "cell_type": "markdown",
      "metadata": {
        "id": "view-in-github",
        "colab_type": "text"
      },
      "source": [
        "<a href=\"https://colab.research.google.com/github/FarzanaEva/Practice-NLP/blob/master/Text_Classification.ipynb\" target=\"_parent\"><img src=\"https://colab.research.google.com/assets/colab-badge.svg\" alt=\"Open In Colab\"/></a>"
      ]
    },
    {
      "cell_type": "code",
      "metadata": {
        "id": "Gsn9HezODxVA",
        "colab_type": "code",
        "colab": {}
      },
      "source": [
        "import tensorflow as tf\n",
        "import tensorflow_datasets as tfds\n",
        "import matplotlib.pyplot as plt\n",
        "from tensorflow.keras.regularizers import L2"
      ],
      "execution_count": 1,
      "outputs": []
    },
    {
      "cell_type": "code",
      "metadata": {
        "id": "GQuhPq_6EUE0",
        "colab_type": "code",
        "colab": {}
      },
      "source": [
        "dataset, info = tfds.load('imdb_reviews/subwords8k', with_info = True, as_supervised  = True)\n",
        "\n",
        "train_dataset, test_dataset = dataset['train'], dataset['test']"
      ],
      "execution_count": 2,
      "outputs": []
    },
    {
      "cell_type": "code",
      "metadata": {
        "id": "qSvZMcmPEv7V",
        "colab_type": "code",
        "colab": {
          "base_uri": "https://localhost:8080/",
          "height": 35
        },
        "outputId": "f3cc2b22-32f0-4b93-b90e-6f1000634aae"
      },
      "source": [
        "encoder = info.features['text'].encoder\n",
        "print('Vocabulary size: {}'.format(encoder.vocab_size))"
      ],
      "execution_count": 3,
      "outputs": [
        {
          "output_type": "stream",
          "text": [
            "Vocabulary size: 8185\n"
          ],
          "name": "stdout"
        }
      ]
    },
    {
      "cell_type": "code",
      "metadata": {
        "id": "VilGNVDkFEW4",
        "colab_type": "code",
        "colab": {
          "base_uri": "https://localhost:8080/",
          "height": 54
        },
        "outputId": "877defef-3714-4542-8aed-2840a818d341"
      },
      "source": [
        "sample_string = \"Hello TensorFlow.\"\n",
        "\n",
        "encoded_string = encoder.encode(sample_string)\n",
        "print('Encoded_string is {}'.format(encoded_string))\n",
        "\n",
        "original_string = encoder.decode(encoded_string)\n",
        "print('The original string: \"{}\"'. format(original_string))"
      ],
      "execution_count": 4,
      "outputs": [
        {
          "output_type": "stream",
          "text": [
            "Encoded_string is [4025, 222, 6307, 2327, 4043, 2120, 7975]\n",
            "The original string: \"Hello TensorFlow.\"\n"
          ],
          "name": "stdout"
        }
      ]
    },
    {
      "cell_type": "code",
      "metadata": {
        "id": "HmgYl0liF-lt",
        "colab_type": "code",
        "colab": {}
      },
      "source": [
        "assert original_string == sample_string"
      ],
      "execution_count": 5,
      "outputs": []
    },
    {
      "cell_type": "code",
      "metadata": {
        "id": "GdIDYNX-GPBJ",
        "colab_type": "code",
        "colab": {
          "base_uri": "https://localhost:8080/",
          "height": 146
        },
        "outputId": "22cae9a2-156b-442a-fbb1-6e7376277dd2"
      },
      "source": [
        "for index in encoded_string:\n",
        "  print('{} ----> {}'.format(index, encoder.decode([index])))"
      ],
      "execution_count": 6,
      "outputs": [
        {
          "output_type": "stream",
          "text": [
            "4025 ----> Hell\n",
            "222 ----> o \n",
            "6307 ----> Ten\n",
            "2327 ----> sor\n",
            "4043 ----> Fl\n",
            "2120 ----> ow\n",
            "7975 ----> .\n"
          ],
          "name": "stdout"
        }
      ]
    },
    {
      "cell_type": "code",
      "metadata": {
        "id": "wRvC5c8RGr32",
        "colab_type": "code",
        "colab": {}
      },
      "source": [
        "BUFFER_SIZE = 10000\n",
        "BATCH_SIZE = 64"
      ],
      "execution_count": 7,
      "outputs": []
    },
    {
      "cell_type": "code",
      "metadata": {
        "id": "0KRzxLoaG7Jz",
        "colab_type": "code",
        "colab": {}
      },
      "source": [
        "train_dataset = train_dataset.shuffle(BUFFER_SIZE)\n",
        "train_dataset = train_dataset.padded_batch(BATCH_SIZE)\n",
        "\n",
        "test_dataset = test_dataset.padded_batch(BATCH_SIZE)"
      ],
      "execution_count": 8,
      "outputs": []
    },
    {
      "cell_type": "code",
      "metadata": {
        "id": "vmSoFqN4HQTE",
        "colab_type": "code",
        "colab": {}
      },
      "source": [
        "model = tf.keras.Sequential([\n",
        "  tf.keras.layers.Embedding(encoder.vocab_size, 150),\n",
        "  tf.keras.layers.Bidirectional(tf.keras.layers.LSTM(100, return_sequences= True)),\n",
        "  tf.keras.layers.Dropout(0.5),\n",
        "  tf.keras.layers.Bidirectional(tf.keras.layers.LSTM(64)),\n",
        "  tf.keras.layers.Dropout(0.5),\n",
        "  tf.keras.layers.Dense(256, activation='relu', kernel_regularizer=L2()),\n",
        "  tf.keras.layers.Dense(1, activation='sigmoid')\n",
        "])"
      ],
      "execution_count": 9,
      "outputs": []
    },
    {
      "cell_type": "code",
      "metadata": {
        "id": "pdMY1nK1J8xF",
        "colab_type": "code",
        "colab": {}
      },
      "source": [
        "model.compile(loss='binary_crossentropy', \n",
        "              optimizer = 'adam',\n",
        "              metrics = ['accuracy'])"
      ],
      "execution_count": 10,
      "outputs": []
    },
    {
      "cell_type": "code",
      "metadata": {
        "id": "bzfIoZ3uKQt2",
        "colab_type": "code",
        "colab": {
          "base_uri": "https://localhost:8080/",
          "height": 1000
        },
        "outputId": "03ce850a-404e-44a1-c2e0-674363efc23d"
      },
      "source": [
        "history = model.fit(train_dataset, epochs = 50, validation_data = test_dataset)"
      ],
      "execution_count": 11,
      "outputs": [
        {
          "output_type": "stream",
          "text": [
            "Epoch 1/50\n",
            "391/391 [==============================] - 147s 375ms/step - loss: 0.8550 - accuracy: 0.5262 - val_loss: 0.6787 - val_accuracy: 0.6256\n",
            "Epoch 2/50\n",
            "391/391 [==============================] - 145s 372ms/step - loss: 0.6568 - accuracy: 0.6316 - val_loss: 0.6699 - val_accuracy: 0.5911\n",
            "Epoch 3/50\n",
            "391/391 [==============================] - 145s 372ms/step - loss: 0.5840 - accuracy: 0.7106 - val_loss: 0.6786 - val_accuracy: 0.6372\n",
            "Epoch 4/50\n",
            "391/391 [==============================] - 145s 372ms/step - loss: 0.5199 - accuracy: 0.7620 - val_loss: 0.4876 - val_accuracy: 0.7638\n",
            "Epoch 5/50\n",
            "391/391 [==============================] - 144s 369ms/step - loss: 0.3939 - accuracy: 0.8328 - val_loss: 0.3982 - val_accuracy: 0.8295\n",
            "Epoch 6/50\n",
            "391/391 [==============================] - 145s 372ms/step - loss: 0.3072 - accuracy: 0.8841 - val_loss: 0.3993 - val_accuracy: 0.8280\n",
            "Epoch 7/50\n",
            "391/391 [==============================] - 145s 371ms/step - loss: 0.2736 - accuracy: 0.8974 - val_loss: 0.3646 - val_accuracy: 0.8572\n",
            "Epoch 8/50\n",
            "391/391 [==============================] - 144s 370ms/step - loss: 0.2329 - accuracy: 0.9155 - val_loss: 0.3395 - val_accuracy: 0.8593\n",
            "Epoch 9/50\n",
            "391/391 [==============================] - 145s 371ms/step - loss: 0.2003 - accuracy: 0.9315 - val_loss: 0.4136 - val_accuracy: 0.8366\n",
            "Epoch 10/50\n",
            "391/391 [==============================] - 143s 367ms/step - loss: 0.1880 - accuracy: 0.9366 - val_loss: 0.3829 - val_accuracy: 0.8592\n",
            "Epoch 11/50\n",
            "391/391 [==============================] - 145s 372ms/step - loss: 0.1524 - accuracy: 0.9527 - val_loss: 0.3783 - val_accuracy: 0.8533\n",
            "Epoch 12/50\n",
            "391/391 [==============================] - 145s 372ms/step - loss: 0.1405 - accuracy: 0.9537 - val_loss: 0.4293 - val_accuracy: 0.8611\n",
            "Epoch 13/50\n",
            "391/391 [==============================] - 145s 371ms/step - loss: 0.1106 - accuracy: 0.9684 - val_loss: 0.4339 - val_accuracy: 0.8571\n",
            "Epoch 14/50\n",
            "391/391 [==============================] - 145s 371ms/step - loss: 0.0928 - accuracy: 0.9746 - val_loss: 0.4787 - val_accuracy: 0.8591\n",
            "Epoch 15/50\n",
            "391/391 [==============================] - 145s 370ms/step - loss: 0.0808 - accuracy: 0.9777 - val_loss: 0.4853 - val_accuracy: 0.8628\n",
            "Epoch 16/50\n",
            "391/391 [==============================] - 144s 369ms/step - loss: 0.0685 - accuracy: 0.9810 - val_loss: 0.5343 - val_accuracy: 0.8598\n",
            "Epoch 17/50\n",
            "391/391 [==============================] - 145s 371ms/step - loss: 0.0534 - accuracy: 0.9874 - val_loss: 0.5777 - val_accuracy: 0.8578\n",
            "Epoch 18/50\n",
            "391/391 [==============================] - 145s 371ms/step - loss: 0.0583 - accuracy: 0.9849 - val_loss: 0.5361 - val_accuracy: 0.8598\n",
            "Epoch 19/50\n",
            "391/391 [==============================] - 145s 371ms/step - loss: 0.0490 - accuracy: 0.9885 - val_loss: 0.5533 - val_accuracy: 0.8460\n",
            "Epoch 20/50\n",
            "391/391 [==============================] - 145s 372ms/step - loss: 0.0515 - accuracy: 0.9865 - val_loss: 0.6433 - val_accuracy: 0.8508\n",
            "Epoch 21/50\n",
            "391/391 [==============================] - 145s 372ms/step - loss: 0.0398 - accuracy: 0.9919 - val_loss: 0.6399 - val_accuracy: 0.8572\n",
            "Epoch 22/50\n",
            "391/391 [==============================] - 145s 370ms/step - loss: 0.0532 - accuracy: 0.9868 - val_loss: 0.6333 - val_accuracy: 0.8576\n",
            "Epoch 23/50\n",
            "391/391 [==============================] - 145s 371ms/step - loss: 0.0491 - accuracy: 0.9876 - val_loss: 0.6344 - val_accuracy: 0.8489\n",
            "Epoch 24/50\n",
            "391/391 [==============================] - 145s 370ms/step - loss: 0.0364 - accuracy: 0.9924 - val_loss: 0.6235 - val_accuracy: 0.8593\n",
            "Epoch 25/50\n",
            "391/391 [==============================] - 145s 370ms/step - loss: 0.0263 - accuracy: 0.9958 - val_loss: 0.6275 - val_accuracy: 0.8624\n",
            "Epoch 26/50\n",
            "391/391 [==============================] - 144s 369ms/step - loss: 0.0282 - accuracy: 0.9950 - val_loss: 0.7106 - val_accuracy: 0.8591\n",
            "Epoch 27/50\n",
            "391/391 [==============================] - 145s 371ms/step - loss: 0.0496 - accuracy: 0.9888 - val_loss: 0.6210 - val_accuracy: 0.8581\n",
            "Epoch 28/50\n",
            "391/391 [==============================] - 145s 372ms/step - loss: 0.0399 - accuracy: 0.9909 - val_loss: 0.6180 - val_accuracy: 0.8593\n",
            "Epoch 29/50\n",
            "391/391 [==============================] - 145s 370ms/step - loss: 0.0300 - accuracy: 0.9940 - val_loss: 0.5720 - val_accuracy: 0.8608\n",
            "Epoch 30/50\n",
            "391/391 [==============================] - 144s 369ms/step - loss: 0.0246 - accuracy: 0.9958 - val_loss: 0.6713 - val_accuracy: 0.8609\n",
            "Epoch 31/50\n",
            "391/391 [==============================] - 145s 371ms/step - loss: 0.0280 - accuracy: 0.9944 - val_loss: 0.7264 - val_accuracy: 0.8594\n",
            "Epoch 32/50\n",
            "391/391 [==============================] - 145s 371ms/step - loss: 0.0287 - accuracy: 0.9944 - val_loss: 0.6152 - val_accuracy: 0.8609\n",
            "Epoch 33/50\n",
            "391/391 [==============================] - 145s 371ms/step - loss: 0.0248 - accuracy: 0.9952 - val_loss: 0.7371 - val_accuracy: 0.8623\n",
            "Epoch 34/50\n",
            "391/391 [==============================] - 146s 374ms/step - loss: 0.0291 - accuracy: 0.9935 - val_loss: 0.5972 - val_accuracy: 0.8618\n",
            "Epoch 35/50\n",
            "391/391 [==============================] - 145s 371ms/step - loss: 0.0232 - accuracy: 0.9963 - val_loss: 0.6927 - val_accuracy: 0.8588\n",
            "Epoch 36/50\n",
            "391/391 [==============================] - 144s 370ms/step - loss: 0.0247 - accuracy: 0.9954 - val_loss: 0.7220 - val_accuracy: 0.8596\n",
            "Epoch 37/50\n",
            "391/391 [==============================] - 145s 371ms/step - loss: 0.0263 - accuracy: 0.9950 - val_loss: 0.6463 - val_accuracy: 0.8624\n",
            "Epoch 38/50\n",
            "391/391 [==============================] - 145s 370ms/step - loss: 0.0267 - accuracy: 0.9948 - val_loss: 0.6638 - val_accuracy: 0.8546\n",
            "Epoch 39/50\n",
            "391/391 [==============================] - 144s 368ms/step - loss: 0.0249 - accuracy: 0.9949 - val_loss: 0.7409 - val_accuracy: 0.8601\n",
            "Epoch 40/50\n",
            "391/391 [==============================] - 145s 371ms/step - loss: 0.0299 - accuracy: 0.9941 - val_loss: 0.6789 - val_accuracy: 0.8634\n",
            "Epoch 41/50\n",
            "391/391 [==============================] - 145s 370ms/step - loss: 0.0230 - accuracy: 0.9958 - val_loss: 0.6937 - val_accuracy: 0.8614\n",
            "Epoch 42/50\n",
            "391/391 [==============================] - 145s 371ms/step - loss: 0.0294 - accuracy: 0.9934 - val_loss: 0.7002 - val_accuracy: 0.8480\n",
            "Epoch 43/50\n",
            "391/391 [==============================] - 144s 368ms/step - loss: 0.0344 - accuracy: 0.9916 - val_loss: 0.6937 - val_accuracy: 0.8608\n",
            "Epoch 44/50\n",
            "391/391 [==============================] - 144s 370ms/step - loss: 0.0187 - accuracy: 0.9971 - val_loss: 0.7405 - val_accuracy: 0.8592\n",
            "Epoch 45/50\n",
            "391/391 [==============================] - 145s 370ms/step - loss: 0.0198 - accuracy: 0.9969 - val_loss: 0.5908 - val_accuracy: 0.8537\n",
            "Epoch 46/50\n",
            "391/391 [==============================] - 144s 369ms/step - loss: 0.0213 - accuracy: 0.9960 - val_loss: 0.6795 - val_accuracy: 0.8596\n",
            "Epoch 47/50\n",
            "391/391 [==============================] - 145s 370ms/step - loss: 0.0218 - accuracy: 0.9958 - val_loss: 0.7129 - val_accuracy: 0.8629\n",
            "Epoch 48/50\n",
            "391/391 [==============================] - 145s 370ms/step - loss: 0.0187 - accuracy: 0.9970 - val_loss: 0.8016 - val_accuracy: 0.8537\n",
            "Epoch 49/50\n",
            "391/391 [==============================] - 145s 370ms/step - loss: 0.0173 - accuracy: 0.9978 - val_loss: 0.7499 - val_accuracy: 0.8609\n",
            "Epoch 50/50\n",
            "391/391 [==============================] - 145s 371ms/step - loss: 0.0237 - accuracy: 0.9957 - val_loss: 0.7232 - val_accuracy: 0.8606\n"
          ],
          "name": "stdout"
        }
      ]
    },
    {
      "cell_type": "code",
      "metadata": {
        "id": "JvfHPjsiKjcH",
        "colab_type": "code",
        "colab": {}
      },
      "source": [
        "def plot_graphs(history, metric):\n",
        "  plt.plot(history.history[metric])\n",
        "  plt.plot(history.history[\"val_\"+metric], '')\n",
        "  plt.xlabel(\"Epochs\")\n",
        "  plt.ylabel(metric)\n",
        "  plt.legend([metric, \"val_\"+metric])\n",
        "  plt.show()"
      ],
      "execution_count": 12,
      "outputs": []
    },
    {
      "cell_type": "code",
      "metadata": {
        "id": "k4EoshVArSZY",
        "colab_type": "code",
        "colab": {
          "base_uri": "https://localhost:8080/",
          "height": 541
        },
        "outputId": "463894b5-d266-4a45-c829-064089981011"
      },
      "source": [
        "plot_graphs(history, 'accuracy')\n",
        "plot_graphs(history, 'loss')"
      ],
      "execution_count": 13,
      "outputs": [
        {
          "output_type": "display_data",
          "data": {
            "image/png": "[encoded data removed]",
            "text/plain": [
              "<Figure size 432x288 with 1 Axes>"
            ]
          },
          "metadata": {
            "tags": [],
            "needs_background": "light"
          }
        },
        {
          "output_type": "display_data",
          "data": {
            "image/png": "[encoded data removed]",
            "text/plain": [
              "<Figure size 432x288 with 1 Axes>"
            ]
          },
          "metadata": {
            "tags": [],
            "needs_background": "light"
          }
        }
      ]
    },
    {
      "cell_type": "code",
      "metadata": {
        "id": "KdBtf8kGrnuG",
        "colab_type": "code",
        "colab": {}
      },
      "source": [
        "def pad_to_zero(vec, size):\n",
        "  zeros = [0] * (size - len(vec))\n",
        "  vec.extend(zeros)\n",
        "  return vec"
      ],
      "execution_count": 14,
      "outputs": []
    },
    {
      "cell_type": "code",
      "metadata": {
        "id": "BiLr6kjvrnxb",
        "colab_type": "code",
        "colab": {}
      },
      "source": [
        "def sample_predict(sample_pred_text, pad):\n",
        "  encoded_sample_pred_text = encoder.encode(sample_pred_text)\n",
        "\n",
        "  if pad:\n",
        "    encoded_sample_pred_text = pad_to_zero(encoded_sample_pred_text, 64)\n",
        "  encoded_sample_pred_text = tf.cast(encoded_sample_pred_text, tf.float32)\n",
        "  predictions = model.predict(tf.expand_dims(encoded_sample_pred_text, 0))\n",
        "\n",
        "  return (predictions)"
      ],
      "execution_count": 15,
      "outputs": []
    },
    {
      "cell_type": "code",
      "metadata": {
        "id": "KBjPHHpbrSoF",
        "colab_type": "code",
        "colab": {
          "base_uri": "https://localhost:8080/",
          "height": 35
        },
        "outputId": "0f3f3dff-d4a9-47f7-81f7-4f2899ac63ea"
      },
      "source": [
        "sample_pred_text = ('The movie was not good. The animation and the graphics were terrible. I would not recommend this movie.')\n",
        "predictions = sample_predict(sample_pred_text, pad=False)\n",
        "print(predictions)"
      ],
      "execution_count": 16,
      "outputs": [
        {
          "output_type": "stream",
          "text": [
            "[[0.00102995]]\n"
          ],
          "name": "stdout"
        }
      ]
    },
    {
      "cell_type": "code",
      "metadata": {
        "id": "XW8VCcEwrn2B",
        "colab_type": "code",
        "colab": {
          "base_uri": "https://localhost:8080/",
          "height": 35
        },
        "outputId": "b55c6e1b-1d72-420b-a946-300d5033724c"
      },
      "source": [
        "# predict on a sample text with padding\n",
        "predictions = sample_predict(sample_pred_text, pad=True)\n",
        "print(predictions)\n"
      ],
      "execution_count": 17,
      "outputs": [
        {
          "output_type": "stream",
          "text": [
            "[[0.00125586]]\n"
          ],
          "name": "stdout"
        }
      ]
    },
    {
      "cell_type": "code",
      "metadata": {
        "id": "EzdRn4SgrS0J",
        "colab_type": "code",
        "colab": {}
      },
      "source": [
        ""
      ],
      "execution_count": 17,
      "outputs": []
    },
    {
      "cell_type": "code",
      "metadata": {
        "id": "_QCnUarurS7t",
        "colab_type": "code",
        "colab": {}
      },
      "source": [
        ""
      ],
      "execution_count": 17,
      "outputs": []
    },
    {
      "cell_type": "code",
      "metadata": {
        "id": "FYlalvV7rTGj",
        "colab_type": "code",
        "colab": {}
      },
      "source": [
        ""
      ],
      "execution_count": 17,
      "outputs": []
    }
  ]
}